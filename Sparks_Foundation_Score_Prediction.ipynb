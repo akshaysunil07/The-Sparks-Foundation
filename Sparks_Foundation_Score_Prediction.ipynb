{
 "cells": [
  {
   "cell_type": "markdown",
   "id": "cardiovascular-floating",
   "metadata": {},
   "source": [
    "# Linear Regression with Python Scikit Learn\n",
    "**In this section we will see how the Python Scikit-Learn library for machine learning can be used to implement regression functions. We will start with simple linear regression involving two variables.\n",
    "\n",
    "### Simple Linear Regression\n",
    "**In this regression task we will predict the percentage of marks that a student is expected to score based upon the number of hours they studied. This is a simple linear regression task as it involves just two variables.\n",
    "\n",
    "## Task Number : 1\n",
    "### Prediction Using Supervised Machine Learning\n",
    "\n",
    "### Author: Akshay Sunil\n",
    "\n",
    "## Problem Statement:\n",
    "**Predict the percentage of an student based on the no. of study hours.\n",
    "**What will be predicted score if a student studies for 9.25 hrs/ day?"
   ]
  },
  {
   "cell_type": "code",
   "execution_count": 1,
   "id": "cloudy-staff",
   "metadata": {},
   "outputs": [],
   "source": [
    "import numpy as np\n",
    "import pandas as pd\n",
    "import matplotlib.pyplot as plt\n",
    "import seaborn as sns\n",
    "import warnings\n",
    "warnings.filterwarnings('ignore')"
   ]
  },
  {
   "cell_type": "code",
   "execution_count": 2,
   "id": "exciting-conviction",
   "metadata": {},
   "outputs": [
    {
     "data": {
      "text/html": [
       "<div>\n",
       "<style scoped>\n",
       "    .dataframe tbody tr th:only-of-type {\n",
       "        vertical-align: middle;\n",
       "    }\n",
       "\n",
       "    .dataframe tbody tr th {\n",
       "        vertical-align: top;\n",
       "    }\n",
       "\n",
       "    .dataframe thead th {\n",
       "        text-align: right;\n",
       "    }\n",
       "</style>\n",
       "<table border=\"1\" class=\"dataframe\">\n",
       "  <thead>\n",
       "    <tr style=\"text-align: right;\">\n",
       "      <th></th>\n",
       "      <th>Hours</th>\n",
       "      <th>Scores</th>\n",
       "    </tr>\n",
       "  </thead>\n",
       "  <tbody>\n",
       "    <tr>\n",
       "      <th>0</th>\n",
       "      <td>2.5</td>\n",
       "      <td>21</td>\n",
       "    </tr>\n",
       "    <tr>\n",
       "      <th>1</th>\n",
       "      <td>5.1</td>\n",
       "      <td>47</td>\n",
       "    </tr>\n",
       "    <tr>\n",
       "      <th>2</th>\n",
       "      <td>3.2</td>\n",
       "      <td>27</td>\n",
       "    </tr>\n",
       "    <tr>\n",
       "      <th>3</th>\n",
       "      <td>8.5</td>\n",
       "      <td>75</td>\n",
       "    </tr>\n",
       "    <tr>\n",
       "      <th>4</th>\n",
       "      <td>3.5</td>\n",
       "      <td>30</td>\n",
       "    </tr>\n",
       "    <tr>\n",
       "      <th>5</th>\n",
       "      <td>1.5</td>\n",
       "      <td>20</td>\n",
       "    </tr>\n",
       "    <tr>\n",
       "      <th>6</th>\n",
       "      <td>9.2</td>\n",
       "      <td>88</td>\n",
       "    </tr>\n",
       "    <tr>\n",
       "      <th>7</th>\n",
       "      <td>5.5</td>\n",
       "      <td>60</td>\n",
       "    </tr>\n",
       "    <tr>\n",
       "      <th>8</th>\n",
       "      <td>8.3</td>\n",
       "      <td>81</td>\n",
       "    </tr>\n",
       "    <tr>\n",
       "      <th>9</th>\n",
       "      <td>2.7</td>\n",
       "      <td>25</td>\n",
       "    </tr>\n",
       "  </tbody>\n",
       "</table>\n",
       "</div>"
      ],
      "text/plain": [
       "   Hours  Scores\n",
       "0    2.5      21\n",
       "1    5.1      47\n",
       "2    3.2      27\n",
       "3    8.5      75\n",
       "4    3.5      30\n",
       "5    1.5      20\n",
       "6    9.2      88\n",
       "7    5.5      60\n",
       "8    8.3      81\n",
       "9    2.7      25"
      ]
     },
     "execution_count": 2,
     "metadata": {},
     "output_type": "execute_result"
    }
   ],
   "source": [
    "df = pd.read_csv(\"http://bit.ly/w-data\")\n",
    "df.head(10)"
   ]
  },
  {
   "cell_type": "code",
   "execution_count": 3,
   "id": "current-fruit",
   "metadata": {},
   "outputs": [
    {
     "name": "stdout",
     "output_type": "stream",
     "text": [
      "Number of rows: 25\n",
      "Number of columns: 2\n"
     ]
    }
   ],
   "source": [
    "print('Number of rows:',df.shape[0])\n",
    "print('Number of columns:',df.shape[1])"
   ]
  },
  {
   "cell_type": "code",
   "execution_count": 4,
   "id": "correct-minute",
   "metadata": {},
   "outputs": [
    {
     "name": "stdout",
     "output_type": "stream",
     "text": [
      "Numerical Columns:\n",
      "['Hours', 'Scores']\n"
     ]
    }
   ],
   "source": [
    "print('Numerical Columns:')\n",
    "print(list(df.select_dtypes('number').columns))"
   ]
  },
  {
   "cell_type": "markdown",
   "id": "fifth-influence",
   "metadata": {},
   "source": [
    "All columns are numerical columns"
   ]
  },
  {
   "cell_type": "code",
   "execution_count": 5,
   "id": "criminal-fleet",
   "metadata": {},
   "outputs": [
    {
     "name": "stdout",
     "output_type": "stream",
     "text": [
      "<class 'pandas.core.frame.DataFrame'>\n",
      "RangeIndex: 25 entries, 0 to 24\n",
      "Data columns (total 2 columns):\n",
      " #   Column  Non-Null Count  Dtype  \n",
      "---  ------  --------------  -----  \n",
      " 0   Hours   25 non-null     float64\n",
      " 1   Scores  25 non-null     int64  \n",
      "dtypes: float64(1), int64(1)\n",
      "memory usage: 528.0 bytes\n"
     ]
    }
   ],
   "source": [
    "df.info()"
   ]
  },
  {
   "cell_type": "code",
   "execution_count": 6,
   "id": "wooden-spelling",
   "metadata": {},
   "outputs": [
    {
     "data": {
      "text/plain": [
       "Hours     0\n",
       "Scores    0\n",
       "dtype: int64"
      ]
     },
     "execution_count": 6,
     "metadata": {},
     "output_type": "execute_result"
    }
   ],
   "source": [
    "df.isnull().sum()"
   ]
  },
  {
   "cell_type": "markdown",
   "id": "sudden-collective",
   "metadata": {},
   "source": [
    "There are no missing values in the data."
   ]
  },
  {
   "cell_type": "code",
   "execution_count": 7,
   "id": "exposed-inside",
   "metadata": {
    "scrolled": false
   },
   "outputs": [
    {
     "data": {
      "image/png": "[encoded data removed]",
      "text/plain": [
       "<Figure size 1008x288 with 2 Axes>"
      ]
     },
     "metadata": {
      "needs_background": "light"
     },
     "output_type": "display_data"
    }
   ],
   "source": [
    "## Checking for outliers in the data.\n",
    "fig,axis = plt.subplots(1,2,figsize=(14,4))\n",
    "for i,col in enumerate(df.columns):\n",
    "    sns.boxplot(x=df[col],ax=axis[i])\n",
    "    plt.tight_layout()"
   ]
  },
  {
   "cell_type": "markdown",
   "id": "provincial-frequency",
   "metadata": {},
   "source": [
    "There are no outliers / extreme values in the data."
   ]
  },
  {
   "cell_type": "code",
   "execution_count": 8,
   "id": "responsible-liver",
   "metadata": {},
   "outputs": [
    {
     "data": {
      "image/png": "[encoded data removed]",
      "text/plain": [
       "<Figure size 576x432 with 1 Axes>"
      ]
     },
     "metadata": {
      "needs_background": "light"
     },
     "output_type": "display_data"
    }
   ],
   "source": [
    "## Visualizing the Spread of Data\n",
    "plt.figure(figsize=(8,6))\n",
    "sns.scatterplot(x='Hours', y='Scores',data=df)\n",
    "plt.grid()\n",
    "plt.title('Hours Studied vs Scores')\n",
    "plt.xlabel('Hours Studied')\n",
    "plt.ylabel('Scores')\n",
    "plt.show()"
   ]
  },
  {
   "cell_type": "code",
   "execution_count": 9,
   "id": "attractive-machine",
   "metadata": {},
   "outputs": [
    {
     "data": {
      "image/png": "[encoded data removed]",
      "text/plain": [
       "<Figure size 1008x432 with 2 Axes>"
      ]
     },
     "metadata": {
      "needs_background": "light"
     },
     "output_type": "display_data"
    }
   ],
   "source": [
    "## Checking the linear relationship between the data.\n",
    "fig,axis = plt.subplots(1,2,figsize=(14,6))\n",
    "axis[0].set_title('Hours Studied vs Scores')\n",
    "axis[1].set_title('Hours Studied vs Scores')\n",
    "axis[0].grid()\n",
    "axis[1].grid()\n",
    "sns.lineplot(x='Hours', y='Scores',data=df,marker='o',ax=axis[0])\n",
    "sns.regplot(x='Hours', y='Scores',data=df,marker='o',ax=axis[1],color='r')\n",
    "plt.tight_layout()"
   ]
  },
  {
   "cell_type": "markdown",
   "id": "juvenile-corporation",
   "metadata": {},
   "source": [
    "We can see that the two features, Hours and Scores; have a fairly linear relationship."
   ]
  },
  {
   "cell_type": "markdown",
   "id": "configured-ancient",
   "metadata": {},
   "source": [
    "***Inferences:***\n",
    "1. Both variables have have a linear relationship\n",
    "2. As the number of Hours increases, the score obtained by the student increases."
   ]
  },
  {
   "cell_type": "markdown",
   "id": "collected-mediterranean",
   "metadata": {},
   "source": [
    "## Stats Model - Ordinary Least Squares"
   ]
  },
  {
   "cell_type": "code",
   "execution_count": 10,
   "id": "synthetic-catering",
   "metadata": {},
   "outputs": [],
   "source": [
    "from statsmodels.api import OLS, add_constant\n",
    "from sklearn.model_selection import train_test_split"
   ]
  },
  {
   "cell_type": "code",
   "execution_count": 49,
   "id": "recognized-allowance",
   "metadata": {},
   "outputs": [],
   "source": [
    "X = df['Hours'].values\n",
    "y = df['Scores'].values\n",
    "Xc = add_constant(X)"
   ]
  },
  {
   "cell_type": "markdown",
   "id": "roman-planner",
   "metadata": {},
   "source": [
    "### Train Test Split"
   ]
  },
  {
   "cell_type": "code",
   "execution_count": 50,
   "id": "disturbed-antibody",
   "metadata": {},
   "outputs": [],
   "source": [
    "X_train,X_test,y_train,y_test=train_test_split(Xc,y,test_size=0.3,random_state=42)"
   ]
  },
  {
   "cell_type": "code",
   "execution_count": 51,
   "id": "blind-eagle",
   "metadata": {},
   "outputs": [
    {
     "name": "stdout",
     "output_type": "stream",
     "text": [
      "(17, 2)\n",
      "(8, 2)\n",
      "(17,)\n",
      "(8,)\n"
     ]
    }
   ],
   "source": [
    "print(X_train.shape)\n",
    "print(X_test.shape)\n",
    "print(y_train.shape)\n",
    "print(y_test.shape)"
   ]
  },
  {
   "cell_type": "markdown",
   "id": "driven-tiffany",
   "metadata": {},
   "source": [
    "### OLS Model"
   ]
  },
  {
   "cell_type": "code",
   "execution_count": 52,
   "id": "opposed-formation",
   "metadata": {},
   "outputs": [
    {
     "data": {
      "text/html": [
       "<table class=\"simpletable\">\n",
       "<caption>OLS Regression Results</caption>\n",
       "<tr>\n",
       "  <th>Dep. Variable:</th>            <td>y</td>        <th>  R-squared:         </th> <td>   0.954</td>\n",
       "</tr>\n",
       "<tr>\n",
       "  <th>Model:</th>                   <td>OLS</td>       <th>  Adj. R-squared:    </th> <td>   0.951</td>\n",
       "</tr>\n",
       "<tr>\n",
       "  <th>Method:</th>             <td>Least Squares</td>  <th>  F-statistic:       </th> <td>   308.6</td>\n",
       "</tr>\n",
       "<tr>\n",
       "  <th>Date:</th>             <td>Sun, 04 Apr 2021</td> <th>  Prob (F-statistic):</th> <td>2.05e-11</td>\n",
       "</tr>\n",
       "<tr>\n",
       "  <th>Time:</th>                 <td>12:46:02</td>     <th>  Log-Likelihood:    </th> <td> -53.419</td>\n",
       "</tr>\n",
       "<tr>\n",
       "  <th>No. Observations:</th>      <td>    17</td>      <th>  AIC:               </th> <td>   110.8</td>\n",
       "</tr>\n",
       "<tr>\n",
       "  <th>Df Residuals:</th>          <td>    15</td>      <th>  BIC:               </th> <td>   112.5</td>\n",
       "</tr>\n",
       "<tr>\n",
       "  <th>Df Model:</th>              <td>     1</td>      <th>                     </th>     <td> </td>   \n",
       "</tr>\n",
       "<tr>\n",
       "  <th>Covariance Type:</th>      <td>nonrobust</td>    <th>                     </th>     <td> </td>   \n",
       "</tr>\n",
       "</table>\n",
       "<table class=\"simpletable\">\n",
       "<tr>\n",
       "    <td></td>       <th>coef</th>     <th>std err</th>      <th>t</th>      <th>P>|t|</th>  <th>[0.025</th>    <th>0.975]</th>  \n",
       "</tr>\n",
       "<tr>\n",
       "  <th>const</th> <td>    2.7942</td> <td>    3.209</td> <td>    0.871</td> <td> 0.398</td> <td>   -4.046</td> <td>    9.634</td>\n",
       "</tr>\n",
       "<tr>\n",
       "  <th>x1</th>    <td>    9.7105</td> <td>    0.553</td> <td>   17.567</td> <td> 0.000</td> <td>    8.532</td> <td>   10.889</td>\n",
       "</tr>\n",
       "</table>\n",
       "<table class=\"simpletable\">\n",
       "<tr>\n",
       "  <th>Omnibus:</th>       <td> 4.492</td> <th>  Durbin-Watson:     </th> <td>   1.400</td>\n",
       "</tr>\n",
       "<tr>\n",
       "  <th>Prob(Omnibus):</th> <td> 0.106</td> <th>  Jarque-Bera (JB):  </th> <td>   1.583</td>\n",
       "</tr>\n",
       "<tr>\n",
       "  <th>Skew:</th>          <td>-0.294</td> <th>  Prob(JB):          </th> <td>   0.453</td>\n",
       "</tr>\n",
       "<tr>\n",
       "  <th>Kurtosis:</th>      <td> 1.626</td> <th>  Cond. No.          </th> <td>    13.2</td>\n",
       "</tr>\n",
       "</table><br/><br/>Notes:<br/>[1] Standard Errors assume that the covariance matrix of the errors is correctly specified."
      ],
      "text/plain": [
       "<class 'statsmodels.iolib.summary.Summary'>\n",
       "\"\"\"\n",
       "                            OLS Regression Results                            \n",
       "==============================================================================\n",
       "Dep. Variable:                      y   R-squared:                       0.954\n",
       "Model:                            OLS   Adj. R-squared:                  0.951\n",
       "Method:                 Least Squares   F-statistic:                     308.6\n",
       "Date:                Sun, 04 Apr 2021   Prob (F-statistic):           2.05e-11\n",
       "Time:                        12:46:02   Log-Likelihood:                -53.419\n",
       "No. Observations:                  17   AIC:                             110.8\n",
       "Df Residuals:                      15   BIC:                             112.5\n",
       "Df Model:                           1                                         \n",
       "Covariance Type:            nonrobust                                         \n",
       "==============================================================================\n",
       "                 coef    std err          t      P>|t|      [0.025      0.975]\n",
       "------------------------------------------------------------------------------\n",
       "const          2.7942      3.209      0.871      0.398      -4.046       9.634\n",
       "x1             9.7105      0.553     17.567      0.000       8.532      10.889\n",
       "==============================================================================\n",
       "Omnibus:                        4.492   Durbin-Watson:                   1.400\n",
       "Prob(Omnibus):                  0.106   Jarque-Bera (JB):                1.583\n",
       "Skew:                          -0.294   Prob(JB):                        0.453\n",
       "Kurtosis:                       1.626   Cond. No.                         13.2\n",
       "==============================================================================\n",
       "\n",
       "Notes:\n",
       "[1] Standard Errors assume that the covariance matrix of the errors is correctly specified.\n",
       "\"\"\""
      ]
     },
     "execution_count": 52,
     "metadata": {},
     "output_type": "execute_result"
    }
   ],
   "source": [
    "model = OLS(y_train,X_train).fit()\n",
    "model.summary()"
   ]
  },
  {
   "cell_type": "code",
   "execution_count": 53,
   "id": "robust-frequency",
   "metadata": {},
   "outputs": [
    {
     "name": "stdout",
     "output_type": "stream",
     "text": [
      "Intercept = 2.7941966765998174\n"
     ]
    }
   ],
   "source": [
    "print('Intercept =',model.params[0])"
   ]
  },
  {
   "cell_type": "code",
   "execution_count": 54,
   "id": "spatial-subcommittee",
   "metadata": {},
   "outputs": [],
   "source": [
    "from sklearn.metrics import r2_score,mean_squared_error,mean_absolute_error,mean_absolute_percentage_error"
   ]
  },
  {
   "cell_type": "code",
   "execution_count": 55,
   "id": "express-simpson",
   "metadata": {},
   "outputs": [
    {
     "name": "stdout",
     "output_type": "stream",
     "text": [
      "Train\n",
      "R2 Score: 0.9536486503889446\n",
      "Root Mean Squared Error: 5.6034193128261665\n",
      "Mean Absolute Error: 5.1708315630914194\n",
      "Mean Absolute Percentage Error: 0.11528614476408011\n",
      "\n",
      "\n",
      "Test\n",
      "R2 Score: 0.9487647340257012\n",
      "Root Mean Squared Error: 4.8599853512281035\n",
      "Mean Absolute Error: 4.499999999999998\n",
      "Mean Absolute Percentage Error: 0.12161098657057007\n"
     ]
    }
   ],
   "source": [
    "y_train_pred=model.predict(X_train)\n",
    "\n",
    "print('Train')\n",
    "print('R2 Score:',r2_score(y_train,y_train_pred))\n",
    "print('Root Mean Squared Error:',np.sqrt(mean_squared_error(y_train,y_train_pred)))\n",
    "print('Mean Absolute Error:',mean_absolute_error(y_train,y_train_pred))\n",
    "print('Mean Absolute Percentage Error:',mean_absolute_percentage_error(y_train,y_train_pred))\n",
    "\n",
    "y_test_pred=model.predict(X_test)\n",
    "\n",
    "print('\\n\\nTest')\n",
    "print('R2 Score:',r2_score(y_test,y_test_pred))\n",
    "print('Root Mean Squared Error:',np.sqrt(mean_squared_error(y_test,y_test_pred)))\n",
    "print('Mean Absolute Error:',mean_absolute_error(y_test,y_test_pred))\n",
    "print('Mean Absolute Percentage Error:',mean_absolute_percentage_error(y_test,y_test_pred))"
   ]
  },
  {
   "cell_type": "code",
   "execution_count": 61,
   "id": "suited-solomon",
   "metadata": {},
   "outputs": [
    {
     "name": "stdout",
     "output_type": "stream",
     "text": [
      "Predicted Score if a student studies for 9.25 hours (using OLS model): 92.61670033840093\n"
     ]
    }
   ],
   "source": [
    "print('Predicted Score if a student studies for 9.25 hours (using OLS model):',model.predict([1,9.25])[0])"
   ]
  },
  {
   "cell_type": "markdown",
   "id": "visible-voluntary",
   "metadata": {},
   "source": [
    "## Linear Regression"
   ]
  },
  {
   "cell_type": "code",
   "execution_count": 35,
   "id": "published-balloon",
   "metadata": {},
   "outputs": [],
   "source": [
    "from sklearn.linear_model import LinearRegression\n",
    "lr = LinearRegression()"
   ]
  },
  {
   "cell_type": "code",
   "execution_count": 43,
   "id": "adult-moscow",
   "metadata": {},
   "outputs": [],
   "source": [
    "X = df['Hours'].values.reshape(-1,1)\n",
    "y = df['Scores'].values.reshape(-1,1)"
   ]
  },
  {
   "cell_type": "code",
   "execution_count": 44,
   "id": "tribal-secondary",
   "metadata": {},
   "outputs": [],
   "source": [
    "X_train,X_test,y_train,y_test=train_test_split(X,y,test_size=0.3,random_state=42)"
   ]
  },
  {
   "cell_type": "code",
   "execution_count": 45,
   "id": "registered-portland",
   "metadata": {},
   "outputs": [
    {
     "name": "stdout",
     "output_type": "stream",
     "text": [
      "Train\n",
      "R2 Score: 0.9536486503889446\n",
      "Root Mean Squared Error: 5.603419312826166\n",
      "Mean Absolute Error: 5.1708315630914194\n",
      "Mean Absolute Percentage Error: 0.11528614476408017\n",
      "\n",
      "\n",
      "Test\n",
      "R2 Score: 0.9487647340257012\n",
      "Root Mean Squared Error: 4.859985351228103\n",
      "Mean Absolute Error: 4.499999999999998\n",
      "Mean Absolute Percentage Error: 0.12161098657057001\n"
     ]
    }
   ],
   "source": [
    "lr.fit(X_train,y_train)\n",
    "\n",
    "y_train_pred=lr.predict(X_train)\n",
    "\n",
    "print('Train')\n",
    "print('R2 Score:',r2_score(y_train,y_train_pred))\n",
    "print('Root Mean Squared Error:',np.sqrt(mean_squared_error(y_train,y_train_pred)))\n",
    "print('Mean Absolute Error:',mean_absolute_error(y_train,y_train_pred))\n",
    "print('Mean Absolute Percentage Error:',mean_absolute_percentage_error(y_train,y_train_pred))\n",
    "\n",
    "y_test_pred=lr.predict(X_test)\n",
    "\n",
    "print('\\n\\nTest')\n",
    "print('R2 Score:',r2_score(y_test,y_test_pred))\n",
    "print('Root Mean Squared Error:',np.sqrt(mean_squared_error(y_test,y_test_pred)))\n",
    "print('Mean Absolute Error:',mean_absolute_error(y_test,y_test_pred))\n",
    "print('Mean Absolute Percentage Error:',mean_absolute_percentage_error(y_test,y_test_pred))"
   ]
  },
  {
   "cell_type": "code",
   "execution_count": 71,
   "id": "handled-export",
   "metadata": {},
   "outputs": [],
   "source": [
    "score=lr.predict(np.array([9.25]).reshape(-1,1))[0][0]"
   ]
  },
  {
   "cell_type": "code",
   "execution_count": 72,
   "id": "cardiac-cartridge",
   "metadata": {},
   "outputs": [
    {
     "name": "stdout",
     "output_type": "stream",
     "text": [
      "Predicted Score if a student studies for 9.25 hours (using LR model): 92.61670033840096\n"
     ]
    }
   ],
   "source": [
    "print('Predicted Score if a student studies for 9.25 hours (using LR model):',score)"
   ]
  },
  {
   "cell_type": "code",
   "execution_count": null,
   "id": "extreme-operation",
   "metadata": {},
   "outputs": [],
   "source": []
  },
  {
   "cell_type": "code",
   "execution_count": null,
   "id": "existing-terrain",
   "metadata": {},
   "outputs": [],
   "source": []
  }
 ],
 "metadata": {
  "kernelspec": {
   "display_name": "Python 3",
   "language": "python",
   "name": "python3"
  },
  "language_info": {
   "codemirror_mode": {
    "name": "ipython",
    "version": 3
   },
   "file_extension": ".py",
   "mimetype": "text/x-python",
   "name": "python",
   "nbconvert_exporter": "python",
   "pygments_lexer": "ipython3",
   "version": "3.8.8"
  }
 },
 "nbformat": 4,
 "nbformat_minor": 5
}
